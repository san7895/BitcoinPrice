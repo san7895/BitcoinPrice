{
  "cells":[
    {
      "cell_type":"code",
      "source":[
        "import numpy as np\n",
        "import matplotlib.pyplot as plt\n",
        "import pandas as pd\n",
        "from sklearn.preprocessing import MinMaxScaler"
      ],
      "execution_count":2,
      "outputs":[
        
      ],
      "metadata":{
        
      }
    },
    {
      "cell_type":"code",
      "source":[
        "data = pd.read_csv('BTC-USD.csv', date_parser = True)\n",
        "data"
      ],
      "execution_count":3,
      "outputs":[
        {
          "data":{
            "text\/html":[
              "<div>\n",
              "<style scoped>\n",
              "    .dataframe tbody tr th:only-of-type {\n",
              "        vertical-align: middle;\n",
              "    }\n",
              "\n",
              "    .dataframe tbody tr th {\n",
              "        vertical-align: top;\n",
              "    }\n",
              "\n",
              "    .dataframe thead th {\n",
              "        text-align: right;\n",
              "    }\n",
              "<\/style>\n",
              "<table border=\"1\" class=\"dataframe\">\n",
              "  <thead>\n",
              "    <tr style=\"text-align: right;\">\n",
              "      <th><\/th>\n",
              "      <th>Date<\/th>\n",
              "      <th>Open<\/th>\n",
              "      <th>High<\/th>\n",
              "      <th>Low<\/th>\n",
              "      <th>Close<\/th>\n",
              "      <th>Adj Close<\/th>\n",
              "      <th>Volume<\/th>\n",
              "    <\/tr>\n",
              "  <\/thead>\n",
              "  <tbody>\n",
              "    <tr>\n",
              "      <th>0<\/th>\n",
              "      <td>2014-12-02<\/td>\n",
              "      <td>379.250000<\/td>\n",
              "      <td>384.037994<\/td>\n",
              "      <td>377.863007<\/td>\n",
              "      <td>381.315002<\/td>\n",
              "      <td>381.315002<\/td>\n",
              "      <td>1.236410e+07<\/td>\n",
              "    <\/tr>\n",
              "    <tr>\n",
              "      <th>1<\/th>\n",
              "      <td>2014-12-03<\/td>\n",
              "      <td>381.721985<\/td>\n",
              "      <td>383.026001<\/td>\n",
              "      <td>374.346008<\/td>\n",
              "      <td>375.010010<\/td>\n",
              "      <td>375.010010<\/td>\n",
              "      <td>1.334010e+07<\/td>\n",
              "    <\/tr>\n",
              "    <tr>\n",
              "      <th>2<\/th>\n",
              "      <td>2014-12-04<\/td>\n",
              "      <td>375.717987<\/td>\n",
              "      <td>378.654999<\/td>\n",
              "      <td>367.759003<\/td>\n",
              "      <td>369.604004<\/td>\n",
              "      <td>369.604004<\/td>\n",
              "      <td>1.452960e+07<\/td>\n",
              "    <\/tr>\n",
              "    <tr>\n",
              "      <th>3<\/th>\n",
              "      <td>2014-12-05<\/td>\n",
              "      <td>369.441986<\/td>\n",
              "      <td>379.191986<\/td>\n",
              "      <td>365.756012<\/td>\n",
              "      <td>376.854004<\/td>\n",
              "      <td>376.854004<\/td>\n",
              "      <td>1.518180e+07<\/td>\n",
              "    <\/tr>\n",
              "    <tr>\n",
              "      <th>4<\/th>\n",
              "      <td>2014-12-06<\/td>\n",
              "      <td>376.756989<\/td>\n",
              "      <td>378.447998<\/td>\n",
              "      <td>370.945007<\/td>\n",
              "      <td>374.785004<\/td>\n",
              "      <td>374.785004<\/td>\n",
              "      <td>7.009320e+06<\/td>\n",
              "    <\/tr>\n",
              "    <tr>\n",
              "      <th>...<\/th>\n",
              "      <td>...<\/td>\n",
              "      <td>...<\/td>\n",
              "      <td>...<\/td>\n",
              "      <td>...<\/td>\n",
              "      <td>...<\/td>\n",
              "      <td>...<\/td>\n",
              "      <td>...<\/td>\n",
              "    <\/tr>\n",
              "    <tr>\n",
              "      <th>2505<\/th>\n",
              "      <td>2021-10-11<\/td>\n",
              "      <td>54734.125000<\/td>\n",
              "      <td>57793.039063<\/td>\n",
              "      <td>54519.765625<\/td>\n",
              "      <td>57484.789063<\/td>\n",
              "      <td>57484.789063<\/td>\n",
              "      <td>4.263733e+10<\/td>\n",
              "    <\/tr>\n",
              "    <tr>\n",
              "      <th>2506<\/th>\n",
              "      <td>2021-10-12<\/td>\n",
              "      <td>57526.832031<\/td>\n",
              "      <td>57627.878906<\/td>\n",
              "      <td>54477.972656<\/td>\n",
              "      <td>56041.058594<\/td>\n",
              "      <td>56041.058594<\/td>\n",
              "      <td>4.108376e+10<\/td>\n",
              "    <\/tr>\n",
              "    <tr>\n",
              "      <th>2507<\/th>\n",
              "      <td>2021-10-13<\/td>\n",
              "      <td>56038.257813<\/td>\n",
              "      <td>57688.660156<\/td>\n",
              "      <td>54370.972656<\/td>\n",
              "      <td>57401.097656<\/td>\n",
              "      <td>57401.097656<\/td>\n",
              "      <td>4.168425e+10<\/td>\n",
              "    <\/tr>\n",
              "    <tr>\n",
              "      <th>2508<\/th>\n",
              "      <td>2021-10-14<\/td>\n",
              "      <td>57372.832031<\/td>\n",
              "      <td>58478.734375<\/td>\n",
              "      <td>56957.074219<\/td>\n",
              "      <td>57321.523438<\/td>\n",
              "      <td>57321.523438<\/td>\n",
              "      <td>3.661579e+10<\/td>\n",
              "    <\/tr>\n",
              "    <tr>\n",
              "      <th>2509<\/th>\n",
              "      <td>2021-10-15<\/td>\n",
              "      <td>57345.902344<\/td>\n",
              "      <td>62757.128906<\/td>\n",
              "      <td>56868.144531<\/td>\n",
              "      <td>61593.949219<\/td>\n",
              "      <td>61593.949219<\/td>\n",
              "      <td>5.178008e+10<\/td>\n",
              "    <\/tr>\n",
              "  <\/tbody>\n",
              "<\/table>\n",
              "<p>2510 rows × 7 columns<\/p>\n",
              "<\/div>"
            ]
          },
          "metadata":{
            
          },
          "output_type":"display_data"
        }
      ],
      "metadata":{
        
      }
    },
    {
      "cell_type":"code",
      "source":[
        "train = data[data['Date']< '2020-01-01'].copy()\n",
        "train"
      ],
      "execution_count":4,
      "outputs":[
        {
          "data":{
            "text\/html":[
              "<div>\n",
              "<style scoped>\n",
              "    .dataframe tbody tr th:only-of-type {\n",
              "        vertical-align: middle;\n",
              "    }\n",
              "\n",
              "    .dataframe tbody tr th {\n",
              "        vertical-align: top;\n",
              "    }\n",
              "\n",
              "    .dataframe thead th {\n",
              "        text-align: right;\n",
              "    }\n",
              "<\/style>\n",
              "<table border=\"1\" class=\"dataframe\">\n",
              "  <thead>\n",
              "    <tr style=\"text-align: right;\">\n",
              "      <th><\/th>\n",
              "      <th>Date<\/th>\n",
              "      <th>Open<\/th>\n",
              "      <th>High<\/th>\n",
              "      <th>Low<\/th>\n",
              "      <th>Close<\/th>\n",
              "      <th>Adj Close<\/th>\n",
              "      <th>Volume<\/th>\n",
              "    <\/tr>\n",
              "  <\/thead>\n",
              "  <tbody>\n",
              "    <tr>\n",
              "      <th>0<\/th>\n",
              "      <td>2014-12-02<\/td>\n",
              "      <td>379.250000<\/td>\n",
              "      <td>384.037994<\/td>\n",
              "      <td>377.863007<\/td>\n",
              "      <td>381.315002<\/td>\n",
              "      <td>381.315002<\/td>\n",
              "      <td>1.236410e+07<\/td>\n",
              "    <\/tr>\n",
              "    <tr>\n",
              "      <th>1<\/th>\n",
              "      <td>2014-12-03<\/td>\n",
              "      <td>381.721985<\/td>\n",
              "      <td>383.026001<\/td>\n",
              "      <td>374.346008<\/td>\n",
              "      <td>375.010010<\/td>\n",
              "      <td>375.010010<\/td>\n",
              "      <td>1.334010e+07<\/td>\n",
              "    <\/tr>\n",
              "    <tr>\n",
              "      <th>2<\/th>\n",
              "      <td>2014-12-04<\/td>\n",
              "      <td>375.717987<\/td>\n",
              "      <td>378.654999<\/td>\n",
              "      <td>367.759003<\/td>\n",
              "      <td>369.604004<\/td>\n",
              "      <td>369.604004<\/td>\n",
              "      <td>1.452960e+07<\/td>\n",
              "    <\/tr>\n",
              "    <tr>\n",
              "      <th>3<\/th>\n",
              "      <td>2014-12-05<\/td>\n",
              "      <td>369.441986<\/td>\n",
              "      <td>379.191986<\/td>\n",
              "      <td>365.756012<\/td>\n",
              "      <td>376.854004<\/td>\n",
              "      <td>376.854004<\/td>\n",
              "      <td>1.518180e+07<\/td>\n",
              "    <\/tr>\n",
              "    <tr>\n",
              "      <th>4<\/th>\n",
              "      <td>2014-12-06<\/td>\n",
              "      <td>376.756989<\/td>\n",
              "      <td>378.447998<\/td>\n",
              "      <td>370.945007<\/td>\n",
              "      <td>374.785004<\/td>\n",
              "      <td>374.785004<\/td>\n",
              "      <td>7.009320e+06<\/td>\n",
              "    <\/tr>\n",
              "    <tr>\n",
              "      <th>...<\/th>\n",
              "      <td>...<\/td>\n",
              "      <td>...<\/td>\n",
              "      <td>...<\/td>\n",
              "      <td>...<\/td>\n",
              "      <td>...<\/td>\n",
              "      <td>...<\/td>\n",
              "      <td>...<\/td>\n",
              "    <\/tr>\n",
              "    <tr>\n",
              "      <th>1851<\/th>\n",
              "      <td>2019-12-27<\/td>\n",
              "      <td>7238.141113<\/td>\n",
              "      <td>7363.529297<\/td>\n",
              "      <td>7189.934082<\/td>\n",
              "      <td>7290.088379<\/td>\n",
              "      <td>7290.088379<\/td>\n",
              "      <td>2.277736e+10<\/td>\n",
              "    <\/tr>\n",
              "    <tr>\n",
              "      <th>1852<\/th>\n",
              "      <td>2019-12-28<\/td>\n",
              "      <td>7289.031250<\/td>\n",
              "      <td>7399.041016<\/td>\n",
              "      <td>7286.905273<\/td>\n",
              "      <td>7317.990234<\/td>\n",
              "      <td>7317.990234<\/td>\n",
              "      <td>2.136567e+10<\/td>\n",
              "    <\/tr>\n",
              "    <tr>\n",
              "      <th>1853<\/th>\n",
              "      <td>2019-12-29<\/td>\n",
              "      <td>7317.647461<\/td>\n",
              "      <td>7513.948242<\/td>\n",
              "      <td>7279.865234<\/td>\n",
              "      <td>7422.652832<\/td>\n",
              "      <td>7422.652832<\/td>\n",
              "      <td>2.244526e+10<\/td>\n",
              "    <\/tr>\n",
              "    <tr>\n",
              "      <th>1854<\/th>\n",
              "      <td>2019-12-30<\/td>\n",
              "      <td>7420.272949<\/td>\n",
              "      <td>7454.824219<\/td>\n",
              "      <td>7276.308105<\/td>\n",
              "      <td>7292.995117<\/td>\n",
              "      <td>7292.995117<\/td>\n",
              "      <td>2.287413e+10<\/td>\n",
              "    <\/tr>\n",
              "    <tr>\n",
              "      <th>1855<\/th>\n",
              "      <td>2019-12-31<\/td>\n",
              "      <td>7294.438965<\/td>\n",
              "      <td>7335.290039<\/td>\n",
              "      <td>7169.777832<\/td>\n",
              "      <td>7193.599121<\/td>\n",
              "      <td>7193.599121<\/td>\n",
              "      <td>2.116795e+10<\/td>\n",
              "    <\/tr>\n",
              "  <\/tbody>\n",
              "<\/table>\n",
              "<p>1856 rows × 7 columns<\/p>\n",
              "<\/div>"
            ]
          },
          "metadata":{
            
          },
          "output_type":"display_data"
        }
      ],
      "metadata":{
        
      }
    },
    {
      "cell_type":"code",
      "source":[
        "test = data[data['Date']> '2020-01-01'].copy()\n",
        "test"
      ],
      "execution_count":5,
      "outputs":[
        {
          "data":{
            "text\/html":[
              "<div>\n",
              "<style scoped>\n",
              "    .dataframe tbody tr th:only-of-type {\n",
              "        vertical-align: middle;\n",
              "    }\n",
              "\n",
              "    .dataframe tbody tr th {\n",
              "        vertical-align: top;\n",
              "    }\n",
              "\n",
              "    .dataframe thead th {\n",
              "        text-align: right;\n",
              "    }\n",
              "<\/style>\n",
              "<table border=\"1\" class=\"dataframe\">\n",
              "  <thead>\n",
              "    <tr style=\"text-align: right;\">\n",
              "      <th><\/th>\n",
              "      <th>Date<\/th>\n",
              "      <th>Open<\/th>\n",
              "      <th>High<\/th>\n",
              "      <th>Low<\/th>\n",
              "      <th>Close<\/th>\n",
              "      <th>Adj Close<\/th>\n",
              "      <th>Volume<\/th>\n",
              "    <\/tr>\n",
              "  <\/thead>\n",
              "  <tbody>\n",
              "    <tr>\n",
              "      <th>1857<\/th>\n",
              "      <td>2020-01-02<\/td>\n",
              "      <td>7202.551270<\/td>\n",
              "      <td>7212.155273<\/td>\n",
              "      <td>6935.270020<\/td>\n",
              "      <td>6985.470215<\/td>\n",
              "      <td>6985.470215<\/td>\n",
              "      <td>2.080208e+10<\/td>\n",
              "    <\/tr>\n",
              "    <tr>\n",
              "      <th>1858<\/th>\n",
              "      <td>2020-01-03<\/td>\n",
              "      <td>6984.428711<\/td>\n",
              "      <td>7413.715332<\/td>\n",
              "      <td>6914.996094<\/td>\n",
              "      <td>7344.884277<\/td>\n",
              "      <td>7344.884277<\/td>\n",
              "      <td>2.811148e+10<\/td>\n",
              "    <\/tr>\n",
              "    <tr>\n",
              "      <th>1859<\/th>\n",
              "      <td>2020-01-04<\/td>\n",
              "      <td>7345.375488<\/td>\n",
              "      <td>7427.385742<\/td>\n",
              "      <td>7309.514160<\/td>\n",
              "      <td>7410.656738<\/td>\n",
              "      <td>7410.656738<\/td>\n",
              "      <td>1.844427e+10<\/td>\n",
              "    <\/tr>\n",
              "    <tr>\n",
              "      <th>1860<\/th>\n",
              "      <td>2020-01-05<\/td>\n",
              "      <td>7410.451660<\/td>\n",
              "      <td>7544.497070<\/td>\n",
              "      <td>7400.535645<\/td>\n",
              "      <td>7411.317383<\/td>\n",
              "      <td>7411.317383<\/td>\n",
              "      <td>1.972507e+10<\/td>\n",
              "    <\/tr>\n",
              "    <tr>\n",
              "      <th>1861<\/th>\n",
              "      <td>2020-01-06<\/td>\n",
              "      <td>7410.452148<\/td>\n",
              "      <td>7781.867188<\/td>\n",
              "      <td>7409.292969<\/td>\n",
              "      <td>7769.219238<\/td>\n",
              "      <td>7769.219238<\/td>\n",
              "      <td>2.327626e+10<\/td>\n",
              "    <\/tr>\n",
              "    <tr>\n",
              "      <th>...<\/th>\n",
              "      <td>...<\/td>\n",
              "      <td>...<\/td>\n",
              "      <td>...<\/td>\n",
              "      <td>...<\/td>\n",
              "      <td>...<\/td>\n",
              "      <td>...<\/td>\n",
              "      <td>...<\/td>\n",
              "    <\/tr>\n",
              "    <tr>\n",
              "      <th>2505<\/th>\n",
              "      <td>2021-10-11<\/td>\n",
              "      <td>54734.125000<\/td>\n",
              "      <td>57793.039063<\/td>\n",
              "      <td>54519.765625<\/td>\n",
              "      <td>57484.789063<\/td>\n",
              "      <td>57484.789063<\/td>\n",
              "      <td>4.263733e+10<\/td>\n",
              "    <\/tr>\n",
              "    <tr>\n",
              "      <th>2506<\/th>\n",
              "      <td>2021-10-12<\/td>\n",
              "      <td>57526.832031<\/td>\n",
              "      <td>57627.878906<\/td>\n",
              "      <td>54477.972656<\/td>\n",
              "      <td>56041.058594<\/td>\n",
              "      <td>56041.058594<\/td>\n",
              "      <td>4.108376e+10<\/td>\n",
              "    <\/tr>\n",
              "    <tr>\n",
              "      <th>2507<\/th>\n",
              "      <td>2021-10-13<\/td>\n",
              "      <td>56038.257813<\/td>\n",
              "      <td>57688.660156<\/td>\n",
              "      <td>54370.972656<\/td>\n",
              "      <td>57401.097656<\/td>\n",
              "      <td>57401.097656<\/td>\n",
              "      <td>4.168425e+10<\/td>\n",
              "    <\/tr>\n",
              "    <tr>\n",
              "      <th>2508<\/th>\n",
              "      <td>2021-10-14<\/td>\n",
              "      <td>57372.832031<\/td>\n",
              "      <td>58478.734375<\/td>\n",
              "      <td>56957.074219<\/td>\n",
              "      <td>57321.523438<\/td>\n",
              "      <td>57321.523438<\/td>\n",
              "      <td>3.661579e+10<\/td>\n",
              "    <\/tr>\n",
              "    <tr>\n",
              "      <th>2509<\/th>\n",
              "      <td>2021-10-15<\/td>\n",
              "      <td>57345.902344<\/td>\n",
              "      <td>62757.128906<\/td>\n",
              "      <td>56868.144531<\/td>\n",
              "      <td>61593.949219<\/td>\n",
              "      <td>61593.949219<\/td>\n",
              "      <td>5.178008e+10<\/td>\n",
              "    <\/tr>\n",
              "  <\/tbody>\n",
              "<\/table>\n",
              "<p>653 rows × 7 columns<\/p>\n",
              "<\/div>"
            ]
          },
          "metadata":{
            
          },
          "output_type":"display_data"
        }
      ],
      "metadata":{
        
      }
    },
    {
      "cell_type":"code",
      "source":[
        "train = train.dropna()"
      ],
      "execution_count":6,
      "outputs":[
        
      ],
      "metadata":{
        
      }
    },
    {
      "cell_type":"code",
      "source":[
        "test = test.dropna()"
      ],
      "execution_count":7,
      "outputs":[
        
      ],
      "metadata":{
        
      }
    },
    {
      "cell_type":"code",
      "source":[
        "train = train.drop(['Date','Adj Close'],axis=1)"
      ],
      "execution_count":8,
      "outputs":[
        
      ],
      "metadata":{
        
      }
    },
    {
      "cell_type":"code",
      "source":[
        "test= test.drop(['Date','Adj Close'],axis=1)"
      ],
      "execution_count":9,
      "outputs":[
        
      ],
      "metadata":{
        
      }
    },
    {
      "cell_type":"code",
      "source":[
        "X_train = train.drop(['Open'],axis=1)\n",
        "Y_train = train.Open"
      ],
      "execution_count":10,
      "outputs":[
        
      ],
      "metadata":{
        
      }
    },
    {
      "cell_type":"code",
      "source":[
        "X_test = test.drop(['Open'],axis=1)\n",
        "Y_test = test.Open"
      ],
      "execution_count":11,
      "outputs":[
        
      ],
      "metadata":{
        
      }
    },
    {
      "cell_type":"code",
      "source":[
        "from sklearn.linear_model import LinearRegression\n",
        "model = LinearRegression()\n",
        "model.fit(X_train,Y_train)"
      ],
      "execution_count":22,
      "outputs":[
        {
          "data":{
            "text\/plain":[
              "LinearRegression()"
            ]
          },
          "metadata":{
            
          },
          "output_type":"display_data"
        }
      ],
      "metadata":{
        
      }
    },
    {
      "cell_type":"code",
      "source":[
        "Y_predict = model.predict(X_test)"
      ],
      "execution_count":23,
      "outputs":[
        
      ],
      "metadata":{
        
      }
    },
    {
      "cell_type":"code",
      "source":[
        "Y_predict"
      ],
      "execution_count":24,
      "outputs":[
        {
          "data":{
            "text\/html":[
              
            ]
          },
          "metadata":{
            
          },
          "output_type":"display_data"
        }
      ],
      "metadata":{
        
      }
    },
    {
      "cell_type":"code",
      "source":[
        "ouput = pd.DataFrame({\"Y_test\": Y_test,\n",
        "                    \"Y_predict\": Y_predict})"
      ],
      "execution_count":25,
      "outputs":[
        
      ],
      "metadata":{
        
      }
    },
    {
      "cell_type":"code",
      "source":[
        "ouput.tail(10)"
      ],
      "execution_count":26,
      "outputs":[
        {
          "data":{
            "text\/html":[
              "<div>\n",
              "<style scoped>\n",
              "    .dataframe tbody tr th:only-of-type {\n",
              "        vertical-align: middle;\n",
              "    }\n",
              "\n",
              "    .dataframe tbody tr th {\n",
              "        vertical-align: top;\n",
              "    }\n",
              "\n",
              "    .dataframe thead th {\n",
              "        text-align: right;\n",
              "    }\n",
              "<\/style>\n",
              "<table border=\"1\" class=\"dataframe\">\n",
              "  <thead>\n",
              "    <tr style=\"text-align: right;\">\n",
              "      <th><\/th>\n",
              "      <th>Y_test<\/th>\n",
              "      <th>Y_predict<\/th>\n",
              "    <\/tr>\n",
              "  <\/thead>\n",
              "  <tbody>\n",
              "    <tr>\n",
              "      <th>2500<\/th>\n",
              "      <td>51486.664063<\/td>\n",
              "      <td>51612.127387<\/td>\n",
              "    <\/tr>\n",
              "    <tr>\n",
              "      <th>2501<\/th>\n",
              "      <td>55338.625000<\/td>\n",
              "      <td>54879.877056<\/td>\n",
              "    <\/tr>\n",
              "    <tr>\n",
              "      <th>2502<\/th>\n",
              "      <td>53802.144531<\/td>\n",
              "      <td>55508.336506<\/td>\n",
              "    <\/tr>\n",
              "    <tr>\n",
              "      <th>2503<\/th>\n",
              "      <td>53929.781250<\/td>\n",
              "      <td>54130.653223<\/td>\n",
              "    <\/tr>\n",
              "    <tr>\n",
              "      <th>2504<\/th>\n",
              "      <td>54952.820313<\/td>\n",
              "      <td>55778.042030<\/td>\n",
              "    <\/tr>\n",
              "    <tr>\n",
              "      <th>2505<\/th>\n",
              "      <td>54734.125000<\/td>\n",
              "      <td>55226.285136<\/td>\n",
              "    <\/tr>\n",
              "    <tr>\n",
              "      <th>2506<\/th>\n",
              "      <td>57526.832031<\/td>\n",
              "      <td>56221.940549<\/td>\n",
              "    <\/tr>\n",
              "    <tr>\n",
              "      <th>2507<\/th>\n",
              "      <td>56038.257813<\/td>\n",
              "      <td>55073.958985<\/td>\n",
              "    <\/tr>\n",
              "    <tr>\n",
              "      <th>2508<\/th>\n",
              "      <td>57372.832031<\/td>\n",
              "      <td>57896.512538<\/td>\n",
              "    <\/tr>\n",
              "    <tr>\n",
              "      <th>2509<\/th>\n",
              "      <td>57345.902344<\/td>\n",
              "      <td>58958.631425<\/td>\n",
              "    <\/tr>\n",
              "  <\/tbody>\n",
              "<\/table>\n",
              "<\/div>"
            ]
          },
          "metadata":{
            
          },
          "output_type":"display_data"
        }
      ],
      "metadata":{
        
      }
    },
    {
      "cell_type":"code",
      "source":[
        "import seaborn as sns\n",
        "sns.lineplot(data = ouput)"
      ],
      "execution_count":27,
      "outputs":[
        {
          "data":{
            "text\/plain":[
              "<AxesSubplot:>"
            ],
            "image\/png":"[encoded data removed]"
          },
          "metadata":{
            "image\/png":{
              
            }
          },
          "output_type":"display_data"
        }
      ],
      "metadata":{
        
      }
    },
    {
      "cell_type":"code",
      "source":[
        
      ],
      "execution_count":0,
      "outputs":[
        
      ],
      "metadata":{
        
      }
    },
    {
      "cell_type":"code",
      "source":[
        
      ],
      "execution_count":0,
      "outputs":[
        
      ],
      "metadata":{
        
      }
    }
  ],
  "metadata":{
    
  },
  "nbformat":4,
  "nbformat_minor":0
}