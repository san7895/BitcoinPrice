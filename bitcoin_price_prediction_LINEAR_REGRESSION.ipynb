{
  "nbformat": 4,
  "nbformat_minor": 0,
  "metadata": {
    "colab": {
      "name": "bitcoin_price_prediction_LINEAR REGRESSION.ipynb",
      "provenance": [],
      "collapsed_sections": []
    },
    "kernelspec": {
      "display_name": "Python 3",
      "name": "python3"
    },
    "language_info": {
      "name": "python"
    }
  },
  "cells": [
    {
      "cell_type": "code",
      "metadata": {
        "colab": {
          "background_save": true
        },
        "id": "T8K0I2t6oG2z"
      },
      "source": [
        "import numpy as np\n",
        "import matplotlib.pyplot as plt\n",
        "import pandas as pd\n",
        "from sklearn.preprocessing import MinMaxScaler"
      ],
      "execution_count": null,
      "outputs": []
    },
    {
      "cell_type": "code",
      "metadata": {
        "colab": {
          "base_uri": "https://localhost:8080/",
          "height": 419
        },
        "id": "g13swVefoG22",
        "outputId": "7bf13bae-1ec8-47e9-a7e7-40a92046ebd0"
      },
      "source": [
        "data = pd.read_csv('BTC-USD.csv', date_parser = True)\n",
        "data"
      ],
      "execution_count": null,
      "outputs": [
        {
          "data": {
            "text/html": [
              "<div>\n",
              "<style scoped>\n",
              "    .dataframe tbody tr th:only-of-type {\n",
              "        vertical-align: middle;\n",
              "    }\n",
              "\n",
              "    .dataframe tbody tr th {\n",
              "        vertical-align: top;\n",
              "    }\n",
              "\n",
              "    .dataframe thead th {\n",
              "        text-align: right;\n",
              "    }\n",
              "</style>\n",
              "<table border=\"1\" class=\"dataframe\">\n",
              "  <thead>\n",
              "    <tr style=\"text-align: right;\">\n",
              "      <th></th>\n",
              "      <th>Date</th>\n",
              "      <th>Open</th>\n",
              "      <th>High</th>\n",
              "      <th>Low</th>\n",
              "      <th>Close</th>\n",
              "      <th>Adj Close</th>\n",
              "      <th>Volume</th>\n",
              "    </tr>\n",
              "  </thead>\n",
              "  <tbody>\n",
              "    <tr>\n",
              "      <th>0</th>\n",
              "      <td>2014-12-02</td>\n",
              "      <td>379.250000</td>\n",
              "      <td>384.037994</td>\n",
              "      <td>377.863007</td>\n",
              "      <td>381.315002</td>\n",
              "      <td>381.315002</td>\n",
              "      <td>1.236410e+07</td>\n",
              "    </tr>\n",
              "    <tr>\n",
              "      <th>1</th>\n",
              "      <td>2014-12-03</td>\n",
              "      <td>381.721985</td>\n",
              "      <td>383.026001</td>\n",
              "      <td>374.346008</td>\n",
              "      <td>375.010010</td>\n",
              "      <td>375.010010</td>\n",
              "      <td>1.334010e+07</td>\n",
              "    </tr>\n",
              "    <tr>\n",
              "      <th>2</th>\n",
              "      <td>2014-12-04</td>\n",
              "      <td>375.717987</td>\n",
              "      <td>378.654999</td>\n",
              "      <td>367.759003</td>\n",
              "      <td>369.604004</td>\n",
              "      <td>369.604004</td>\n",
              "      <td>1.452960e+07</td>\n",
              "    </tr>\n",
              "    <tr>\n",
              "      <th>3</th>\n",
              "      <td>2014-12-05</td>\n",
              "      <td>369.441986</td>\n",
              "      <td>379.191986</td>\n",
              "      <td>365.756012</td>\n",
              "      <td>376.854004</td>\n",
              "      <td>376.854004</td>\n",
              "      <td>1.518180e+07</td>\n",
              "    </tr>\n",
              "    <tr>\n",
              "      <th>4</th>\n",
              "      <td>2014-12-06</td>\n",
              "      <td>376.756989</td>\n",
              "      <td>378.447998</td>\n",
              "      <td>370.945007</td>\n",
              "      <td>374.785004</td>\n",
              "      <td>374.785004</td>\n",
              "      <td>7.009320e+06</td>\n",
              "    </tr>\n",
              "    <tr>\n",
              "      <th>...</th>\n",
              "      <td>...</td>\n",
              "      <td>...</td>\n",
              "      <td>...</td>\n",
              "      <td>...</td>\n",
              "      <td>...</td>\n",
              "      <td>...</td>\n",
              "      <td>...</td>\n",
              "    </tr>\n",
              "    <tr>\n",
              "      <th>2505</th>\n",
              "      <td>2021-10-11</td>\n",
              "      <td>54734.125000</td>\n",
              "      <td>57793.039063</td>\n",
              "      <td>54519.765625</td>\n",
              "      <td>57484.789063</td>\n",
              "      <td>57484.789063</td>\n",
              "      <td>4.263733e+10</td>\n",
              "    </tr>\n",
              "    <tr>\n",
              "      <th>2506</th>\n",
              "      <td>2021-10-12</td>\n",
              "      <td>57526.832031</td>\n",
              "      <td>57627.878906</td>\n",
              "      <td>54477.972656</td>\n",
              "      <td>56041.058594</td>\n",
              "      <td>56041.058594</td>\n",
              "      <td>4.108376e+10</td>\n",
              "    </tr>\n",
              "    <tr>\n",
              "      <th>2507</th>\n",
              "      <td>2021-10-13</td>\n",
              "      <td>56038.257813</td>\n",
              "      <td>57688.660156</td>\n",
              "      <td>54370.972656</td>\n",
              "      <td>57401.097656</td>\n",
              "      <td>57401.097656</td>\n",
              "      <td>4.168425e+10</td>\n",
              "    </tr>\n",
              "    <tr>\n",
              "      <th>2508</th>\n",
              "      <td>2021-10-14</td>\n",
              "      <td>57372.832031</td>\n",
              "      <td>58478.734375</td>\n",
              "      <td>56957.074219</td>\n",
              "      <td>57321.523438</td>\n",
              "      <td>57321.523438</td>\n",
              "      <td>3.661579e+10</td>\n",
              "    </tr>\n",
              "    <tr>\n",
              "      <th>2509</th>\n",
              "      <td>2021-10-15</td>\n",
              "      <td>57345.902344</td>\n",
              "      <td>62757.128906</td>\n",
              "      <td>56868.144531</td>\n",
              "      <td>61593.949219</td>\n",
              "      <td>61593.949219</td>\n",
              "      <td>5.178008e+10</td>\n",
              "    </tr>\n",
              "  </tbody>\n",
              "</table>\n",
              "<p>2510 rows × 7 columns</p>\n",
              "</div>"
            ],
            "text/plain": [
              "            Date          Open  ...     Adj Close        Volume\n",
              "0     2014-12-02    379.250000  ...    381.315002  1.236410e+07\n",
              "1     2014-12-03    381.721985  ...    375.010010  1.334010e+07\n",
              "2     2014-12-04    375.717987  ...    369.604004  1.452960e+07\n",
              "3     2014-12-05    369.441986  ...    376.854004  1.518180e+07\n",
              "4     2014-12-06    376.756989  ...    374.785004  7.009320e+06\n",
              "...          ...           ...  ...           ...           ...\n",
              "2505  2021-10-11  54734.125000  ...  57484.789063  4.263733e+10\n",
              "2506  2021-10-12  57526.832031  ...  56041.058594  4.108376e+10\n",
              "2507  2021-10-13  56038.257813  ...  57401.097656  4.168425e+10\n",
              "2508  2021-10-14  57372.832031  ...  57321.523438  3.661579e+10\n",
              "2509  2021-10-15  57345.902344  ...  61593.949219  5.178008e+10\n",
              "\n",
              "[2510 rows x 7 columns]"
            ]
          },
          "execution_count": 37,
          "metadata": {},
          "output_type": "execute_result"
        }
      ]
    },
    {
      "cell_type": "code",
      "metadata": {
        "colab": {
          "base_uri": "https://localhost:8080/",
          "height": 419
        },
        "id": "q62k5TC7oG23",
        "outputId": "2ae931d9-5bef-468e-e254-a84dc230c9a2"
      },
      "source": [
        "train = data[data['Date']< '2020-01-01'].copy()\n",
        "train"
      ],
      "execution_count": null,
      "outputs": [
        {
          "data": {
            "text/html": [
              "<div>\n",
              "<style scoped>\n",
              "    .dataframe tbody tr th:only-of-type {\n",
              "        vertical-align: middle;\n",
              "    }\n",
              "\n",
              "    .dataframe tbody tr th {\n",
              "        vertical-align: top;\n",
              "    }\n",
              "\n",
              "    .dataframe thead th {\n",
              "        text-align: right;\n",
              "    }\n",
              "</style>\n",
              "<table border=\"1\" class=\"dataframe\">\n",
              "  <thead>\n",
              "    <tr style=\"text-align: right;\">\n",
              "      <th></th>\n",
              "      <th>Date</th>\n",
              "      <th>Open</th>\n",
              "      <th>High</th>\n",
              "      <th>Low</th>\n",
              "      <th>Close</th>\n",
              "      <th>Adj Close</th>\n",
              "      <th>Volume</th>\n",
              "    </tr>\n",
              "  </thead>\n",
              "  <tbody>\n",
              "    <tr>\n",
              "      <th>0</th>\n",
              "      <td>2014-12-02</td>\n",
              "      <td>379.250000</td>\n",
              "      <td>384.037994</td>\n",
              "      <td>377.863007</td>\n",
              "      <td>381.315002</td>\n",
              "      <td>381.315002</td>\n",
              "      <td>1.236410e+07</td>\n",
              "    </tr>\n",
              "    <tr>\n",
              "      <th>1</th>\n",
              "      <td>2014-12-03</td>\n",
              "      <td>381.721985</td>\n",
              "      <td>383.026001</td>\n",
              "      <td>374.346008</td>\n",
              "      <td>375.010010</td>\n",
              "      <td>375.010010</td>\n",
              "      <td>1.334010e+07</td>\n",
              "    </tr>\n",
              "    <tr>\n",
              "      <th>2</th>\n",
              "      <td>2014-12-04</td>\n",
              "      <td>375.717987</td>\n",
              "      <td>378.654999</td>\n",
              "      <td>367.759003</td>\n",
              "      <td>369.604004</td>\n",
              "      <td>369.604004</td>\n",
              "      <td>1.452960e+07</td>\n",
              "    </tr>\n",
              "    <tr>\n",
              "      <th>3</th>\n",
              "      <td>2014-12-05</td>\n",
              "      <td>369.441986</td>\n",
              "      <td>379.191986</td>\n",
              "      <td>365.756012</td>\n",
              "      <td>376.854004</td>\n",
              "      <td>376.854004</td>\n",
              "      <td>1.518180e+07</td>\n",
              "    </tr>\n",
              "    <tr>\n",
              "      <th>4</th>\n",
              "      <td>2014-12-06</td>\n",
              "      <td>376.756989</td>\n",
              "      <td>378.447998</td>\n",
              "      <td>370.945007</td>\n",
              "      <td>374.785004</td>\n",
              "      <td>374.785004</td>\n",
              "      <td>7.009320e+06</td>\n",
              "    </tr>\n",
              "    <tr>\n",
              "      <th>...</th>\n",
              "      <td>...</td>\n",
              "      <td>...</td>\n",
              "      <td>...</td>\n",
              "      <td>...</td>\n",
              "      <td>...</td>\n",
              "      <td>...</td>\n",
              "      <td>...</td>\n",
              "    </tr>\n",
              "    <tr>\n",
              "      <th>1851</th>\n",
              "      <td>2019-12-27</td>\n",
              "      <td>7238.141113</td>\n",
              "      <td>7363.529297</td>\n",
              "      <td>7189.934082</td>\n",
              "      <td>7290.088379</td>\n",
              "      <td>7290.088379</td>\n",
              "      <td>2.277736e+10</td>\n",
              "    </tr>\n",
              "    <tr>\n",
              "      <th>1852</th>\n",
              "      <td>2019-12-28</td>\n",
              "      <td>7289.031250</td>\n",
              "      <td>7399.041016</td>\n",
              "      <td>7286.905273</td>\n",
              "      <td>7317.990234</td>\n",
              "      <td>7317.990234</td>\n",
              "      <td>2.136567e+10</td>\n",
              "    </tr>\n",
              "    <tr>\n",
              "      <th>1853</th>\n",
              "      <td>2019-12-29</td>\n",
              "      <td>7317.647461</td>\n",
              "      <td>7513.948242</td>\n",
              "      <td>7279.865234</td>\n",
              "      <td>7422.652832</td>\n",
              "      <td>7422.652832</td>\n",
              "      <td>2.244526e+10</td>\n",
              "    </tr>\n",
              "    <tr>\n",
              "      <th>1854</th>\n",
              "      <td>2019-12-30</td>\n",
              "      <td>7420.272949</td>\n",
              "      <td>7454.824219</td>\n",
              "      <td>7276.308105</td>\n",
              "      <td>7292.995117</td>\n",
              "      <td>7292.995117</td>\n",
              "      <td>2.287413e+10</td>\n",
              "    </tr>\n",
              "    <tr>\n",
              "      <th>1855</th>\n",
              "      <td>2019-12-31</td>\n",
              "      <td>7294.438965</td>\n",
              "      <td>7335.290039</td>\n",
              "      <td>7169.777832</td>\n",
              "      <td>7193.599121</td>\n",
              "      <td>7193.599121</td>\n",
              "      <td>2.116795e+10</td>\n",
              "    </tr>\n",
              "  </tbody>\n",
              "</table>\n",
              "<p>1856 rows × 7 columns</p>\n",
              "</div>"
            ],
            "text/plain": [
              "            Date         Open  ...    Adj Close        Volume\n",
              "0     2014-12-02   379.250000  ...   381.315002  1.236410e+07\n",
              "1     2014-12-03   381.721985  ...   375.010010  1.334010e+07\n",
              "2     2014-12-04   375.717987  ...   369.604004  1.452960e+07\n",
              "3     2014-12-05   369.441986  ...   376.854004  1.518180e+07\n",
              "4     2014-12-06   376.756989  ...   374.785004  7.009320e+06\n",
              "...          ...          ...  ...          ...           ...\n",
              "1851  2019-12-27  7238.141113  ...  7290.088379  2.277736e+10\n",
              "1852  2019-12-28  7289.031250  ...  7317.990234  2.136567e+10\n",
              "1853  2019-12-29  7317.647461  ...  7422.652832  2.244526e+10\n",
              "1854  2019-12-30  7420.272949  ...  7292.995117  2.287413e+10\n",
              "1855  2019-12-31  7294.438965  ...  7193.599121  2.116795e+10\n",
              "\n",
              "[1856 rows x 7 columns]"
            ]
          },
          "execution_count": 38,
          "metadata": {},
          "output_type": "execute_result"
        }
      ]
    },
    {
      "cell_type": "code",
      "metadata": {
        "colab": {
          "base_uri": "https://localhost:8080/",
          "height": 419
        },
        "id": "azibdXxCoG24",
        "outputId": "b674de17-9828-4872-b0a6-c2b7c002a4a1"
      },
      "source": [
        "test = data[data['Date']>'2020-05-21'].copy()\n",
        "test"
      ],
      "execution_count": null,
      "outputs": [
        {
          "data": {
            "text/html": [
              "<div>\n",
              "<style scoped>\n",
              "    .dataframe tbody tr th:only-of-type {\n",
              "        vertical-align: middle;\n",
              "    }\n",
              "\n",
              "    .dataframe tbody tr th {\n",
              "        vertical-align: top;\n",
              "    }\n",
              "\n",
              "    .dataframe thead th {\n",
              "        text-align: right;\n",
              "    }\n",
              "</style>\n",
              "<table border=\"1\" class=\"dataframe\">\n",
              "  <thead>\n",
              "    <tr style=\"text-align: right;\">\n",
              "      <th></th>\n",
              "      <th>Date</th>\n",
              "      <th>Open</th>\n",
              "      <th>High</th>\n",
              "      <th>Low</th>\n",
              "      <th>Close</th>\n",
              "      <th>Adj Close</th>\n",
              "      <th>Volume</th>\n",
              "    </tr>\n",
              "  </thead>\n",
              "  <tbody>\n",
              "    <tr>\n",
              "      <th>1998</th>\n",
              "      <td>2020-05-22</td>\n",
              "      <td>9080.334961</td>\n",
              "      <td>9232.936523</td>\n",
              "      <td>9008.638672</td>\n",
              "      <td>9182.577148</td>\n",
              "      <td>9182.577148</td>\n",
              "      <td>2.981077e+10</td>\n",
              "    </tr>\n",
              "    <tr>\n",
              "      <th>1999</th>\n",
              "      <td>2020-05-23</td>\n",
              "      <td>9185.062500</td>\n",
              "      <td>9302.501953</td>\n",
              "      <td>9118.108398</td>\n",
              "      <td>9209.287109</td>\n",
              "      <td>9209.287109</td>\n",
              "      <td>2.772787e+10</td>\n",
              "    </tr>\n",
              "    <tr>\n",
              "      <th>2000</th>\n",
              "      <td>2020-05-24</td>\n",
              "      <td>9212.283203</td>\n",
              "      <td>9288.404297</td>\n",
              "      <td>8787.250977</td>\n",
              "      <td>8790.368164</td>\n",
              "      <td>8790.368164</td>\n",
              "      <td>3.251880e+10</td>\n",
              "    </tr>\n",
              "    <tr>\n",
              "      <th>2001</th>\n",
              "      <td>2020-05-25</td>\n",
              "      <td>8786.107422</td>\n",
              "      <td>8951.005859</td>\n",
              "      <td>8719.667969</td>\n",
              "      <td>8906.934570</td>\n",
              "      <td>8906.934570</td>\n",
              "      <td>3.128816e+10</td>\n",
              "    </tr>\n",
              "    <tr>\n",
              "      <th>2002</th>\n",
              "      <td>2020-05-26</td>\n",
              "      <td>8909.585938</td>\n",
              "      <td>8991.967773</td>\n",
              "      <td>8757.293945</td>\n",
              "      <td>8835.052734</td>\n",
              "      <td>8835.052734</td>\n",
              "      <td>2.958419e+10</td>\n",
              "    </tr>\n",
              "    <tr>\n",
              "      <th>...</th>\n",
              "      <td>...</td>\n",
              "      <td>...</td>\n",
              "      <td>...</td>\n",
              "      <td>...</td>\n",
              "      <td>...</td>\n",
              "      <td>...</td>\n",
              "      <td>...</td>\n",
              "    </tr>\n",
              "    <tr>\n",
              "      <th>2505</th>\n",
              "      <td>2021-10-11</td>\n",
              "      <td>54734.125000</td>\n",
              "      <td>57793.039063</td>\n",
              "      <td>54519.765625</td>\n",
              "      <td>57484.789063</td>\n",
              "      <td>57484.789063</td>\n",
              "      <td>4.263733e+10</td>\n",
              "    </tr>\n",
              "    <tr>\n",
              "      <th>2506</th>\n",
              "      <td>2021-10-12</td>\n",
              "      <td>57526.832031</td>\n",
              "      <td>57627.878906</td>\n",
              "      <td>54477.972656</td>\n",
              "      <td>56041.058594</td>\n",
              "      <td>56041.058594</td>\n",
              "      <td>4.108376e+10</td>\n",
              "    </tr>\n",
              "    <tr>\n",
              "      <th>2507</th>\n",
              "      <td>2021-10-13</td>\n",
              "      <td>56038.257813</td>\n",
              "      <td>57688.660156</td>\n",
              "      <td>54370.972656</td>\n",
              "      <td>57401.097656</td>\n",
              "      <td>57401.097656</td>\n",
              "      <td>4.168425e+10</td>\n",
              "    </tr>\n",
              "    <tr>\n",
              "      <th>2508</th>\n",
              "      <td>2021-10-14</td>\n",
              "      <td>57372.832031</td>\n",
              "      <td>58478.734375</td>\n",
              "      <td>56957.074219</td>\n",
              "      <td>57321.523438</td>\n",
              "      <td>57321.523438</td>\n",
              "      <td>3.661579e+10</td>\n",
              "    </tr>\n",
              "    <tr>\n",
              "      <th>2509</th>\n",
              "      <td>2021-10-15</td>\n",
              "      <td>57345.902344</td>\n",
              "      <td>62757.128906</td>\n",
              "      <td>56868.144531</td>\n",
              "      <td>61593.949219</td>\n",
              "      <td>61593.949219</td>\n",
              "      <td>5.178008e+10</td>\n",
              "    </tr>\n",
              "  </tbody>\n",
              "</table>\n",
              "<p>512 rows × 7 columns</p>\n",
              "</div>"
            ],
            "text/plain": [
              "            Date          Open  ...     Adj Close        Volume\n",
              "1998  2020-05-22   9080.334961  ...   9182.577148  2.981077e+10\n",
              "1999  2020-05-23   9185.062500  ...   9209.287109  2.772787e+10\n",
              "2000  2020-05-24   9212.283203  ...   8790.368164  3.251880e+10\n",
              "2001  2020-05-25   8786.107422  ...   8906.934570  3.128816e+10\n",
              "2002  2020-05-26   8909.585938  ...   8835.052734  2.958419e+10\n",
              "...          ...           ...  ...           ...           ...\n",
              "2505  2021-10-11  54734.125000  ...  57484.789063  4.263733e+10\n",
              "2506  2021-10-12  57526.832031  ...  56041.058594  4.108376e+10\n",
              "2507  2021-10-13  56038.257813  ...  57401.097656  4.168425e+10\n",
              "2508  2021-10-14  57372.832031  ...  57321.523438  3.661579e+10\n",
              "2509  2021-10-15  57345.902344  ...  61593.949219  5.178008e+10\n",
              "\n",
              "[512 rows x 7 columns]"
            ]
          },
          "execution_count": 39,
          "metadata": {},
          "output_type": "execute_result"
        }
      ]
    },
    {
      "cell_type": "code",
      "metadata": {
        "id": "7fgmr6YroG24"
      },
      "source": [
        "train = train.dropna()"
      ],
      "execution_count": null,
      "outputs": []
    },
    {
      "cell_type": "code",
      "metadata": {
        "id": "bCSJ8ZAOoG24"
      },
      "source": [
        "test = test.dropna()"
      ],
      "execution_count": null,
      "outputs": []
    },
    {
      "cell_type": "code",
      "metadata": {
        "id": "hhj-JUF3oG25"
      },
      "source": [
        "train = train.drop(['Date','Adj Close'],axis=1)"
      ],
      "execution_count": null,
      "outputs": []
    },
    {
      "cell_type": "code",
      "metadata": {
        "id": "Sxe67e1boG25"
      },
      "source": [
        "test= test.drop(['Date','Adj Close'],axis=1)"
      ],
      "execution_count": null,
      "outputs": []
    },
    {
      "cell_type": "code",
      "metadata": {
        "id": "vTNrt0MxoG26"
      },
      "source": [
        "X_train = train.drop(['Open'],axis=1)\n",
        "Y_train = train.Open"
      ],
      "execution_count": null,
      "outputs": []
    },
    {
      "cell_type": "code",
      "metadata": {
        "id": "X0OSSRo4oG27"
      },
      "source": [
        "X_test = test.drop(['Open'],axis=1)\n",
        "Y_test = test.Open"
      ],
      "execution_count": null,
      "outputs": []
    },
    {
      "cell_type": "code",
      "metadata": {
        "colab": {
          "base_uri": "https://localhost:8080/",
          "height": 296
        },
        "id": "2bq4q5jGIC1n",
        "outputId": "70032107-8142-4a03-bb51-55707a9bed08"
      },
      "source": [
        "import seaborn as sns\n",
        "sns.regplot(x='Volume',y='Open',data=train)"
      ],
      "execution_count": null,
      "outputs": [
        {
          "data": {
            "text/plain": [
              "<matplotlib.axes._subplots.AxesSubplot at 0x7f7dc30c79d0>"
            ]
          },
          "execution_count": 11,
          "metadata": {},
          "output_type": "execute_result"
        },
        {
          "data": {
            "image/png": "[encoded data removed]",
            "text/plain": [
              "<Figure size 432x288 with 1 Axes>"
            ]
          },
          "metadata": {},
          "output_type": "display_data"
        }
      ]
    },
    {
      "cell_type": "code",
      "metadata": {
        "colab": {
          "base_uri": "https://localhost:8080/",
          "height": 296
        },
        "id": "2_h0xlgvIsdo",
        "outputId": "877261cc-8103-4682-9e76-d8e46c07598d"
      },
      "source": [
        "import seaborn as sns\n",
        "sns.regplot(x='High',y='Open',data=train)"
      ],
      "execution_count": null,
      "outputs": [
        {
          "data": {
            "text/plain": [
              "<matplotlib.axes._subplots.AxesSubplot at 0x7f7dc1759a10>"
            ]
          },
          "execution_count": 12,
          "metadata": {},
          "output_type": "execute_result"
        },
        {
          "data": {
            "image/png": "[encoded data removed]",
            "text/plain": [
              "<Figure size 432x288 with 1 Axes>"
            ]
          },
          "metadata": {},
          "output_type": "display_data"
        }
      ]
    },
    {
      "cell_type": "code",
      "metadata": {
        "colab": {
          "base_uri": "https://localhost:8080/",
          "height": 296
        },
        "id": "ZZ9TaT2oJDgF",
        "outputId": "1c643bcc-a94a-4071-c052-3564f4a46f84"
      },
      "source": [
        "import seaborn as sns\n",
        "sns.regplot(x='Low',y='Open',data=train)"
      ],
      "execution_count": null,
      "outputs": [
        {
          "data": {
            "text/plain": [
              "<matplotlib.axes._subplots.AxesSubplot at 0x7f7dc129a650>"
            ]
          },
          "execution_count": 13,
          "metadata": {},
          "output_type": "execute_result"
        },
        {
          "data": {
            "image/png": "[encoded data removed]",
            "text/plain": [
              "<Figure size 432x288 with 1 Axes>"
            ]
          },
          "metadata": {},
          "output_type": "display_data"
        }
      ]
    },
    {
      "cell_type": "code",
      "metadata": {
        "colab": {
          "base_uri": "https://localhost:8080/",
          "height": 296
        },
        "id": "PtS9CgxVItBc",
        "outputId": "0982b7c9-70ee-4bca-df76-562e570d63a4"
      },
      "source": [
        "import seaborn as sns\n",
        "sns.regplot(x='Close',y='Open',data=train)"
      ],
      "execution_count": null,
      "outputs": [
        {
          "data": {
            "text/plain": [
              "<matplotlib.axes._subplots.AxesSubplot at 0x7f7dc122bdd0>"
            ]
          },
          "execution_count": 14,
          "metadata": {},
          "output_type": "execute_result"
        },
        {
          "data": {
            "image/png": "[encoded data removed]",
            "text/plain": [
              "<Figure size 432x288 with 1 Axes>"
            ]
          },
          "metadata": {},
          "output_type": "display_data"
        }
      ]
    },
    {
      "cell_type": "code",
      "metadata": {
        "colab": {
          "base_uri": "https://localhost:8080/"
        },
        "id": "wd7pv0cDoG27",
        "outputId": "267fe08e-9bc7-4d9c-917c-d6200e541760"
      },
      "source": [
        "from sklearn.linear_model import LinearRegression\n",
        "model = LinearRegression()\n",
        "model.fit(X_train,Y_train)"
      ],
      "execution_count": null,
      "outputs": [
        {
          "data": {
            "text/plain": [
              "LinearRegression(copy_X=True, fit_intercept=True, n_jobs=None, normalize=False)"
            ]
          },
          "execution_count": 15,
          "metadata": {},
          "output_type": "execute_result"
        }
      ]
    },
    {
      "cell_type": "code",
      "metadata": {
        "id": "-qwqomE4oG28"
      },
      "source": [
        "Y_predict = model.predict(X_test)"
      ],
      "execution_count": null,
      "outputs": []
    },
    {
      "cell_type": "code",
      "metadata": {
        "colab": {
          "base_uri": "https://localhost:8080/"
        },
        "id": "OvNDMceFoG28",
        "outputId": "6da03f99-19c9-4d0d-9ebb-9e6089d84504"
      },
      "source": [
        "Y_predict"
      ],
      "execution_count": null,
      "outputs": [
        {
          "data": {
            "text/plain": [
              "array([ 9020.48243438,  9156.40210351,  9245.67450755,  8728.72776639,\n",
              "        8862.91235794,  8859.43708678,  9176.14795744,  9448.00954638,\n",
              "        9364.22261394,  9612.6314887 ,  9578.65400507, 10095.62746905,\n",
              "        9461.3029073 ,  9604.48527023,  9799.82780287,  9654.66741876,\n",
              "        9460.29476712,  9626.71393815,  9655.75116034,  9717.78402601,\n",
              "        9865.59319771,  9318.47250868,  9356.06576264,  9381.37205266,\n",
              "        9085.44529382,  9397.95954719,  9351.43485524,  9348.21046745,\n",
              "        9364.39008753,  9259.62701334,  9330.7016986 ,  9313.86672662,\n",
              "        9532.88853404,  9610.25488339,  9143.66287978,  9201.09458419,\n",
              "        9111.92644889,  9004.67284215,  9055.68542139,  9110.06986544,\n",
              "        9150.05742825,  9149.5165717 ,  9118.97968615,  9057.24491189,\n",
              "        9026.60048052,  9064.11132846,  9258.71966461,  9239.45118251,\n",
              "        9335.31484184,  9092.12819505,  9193.68380959,  9189.34384815,\n",
              "        9219.06886625,  9155.7277925 ,  9190.79842934,  9114.01778005,\n",
              "        9064.58463403,  9121.93855514,  9064.00012148,  9124.43470433,\n",
              "        9165.42830435,  9300.74732508,  9459.26382199,  9511.00269594,\n",
              "        9518.6828382 ,  9765.14478529, 10429.72229174, 10927.90460217,\n",
              "       11047.87268555, 10920.46643516, 11080.90365048, 11314.69328601,\n",
              "       12005.80875344, 11207.55550911, 11225.31941622, 11258.6059277 ,\n",
              "       11680.0097828 , 11686.23912536, 11565.18529109, 11630.28254175,\n",
              "       11798.7106002 , 11725.37900641, 11417.76036382, 11277.98456374,\n",
              "       12025.24687412, 11798.9262276 , 11724.85395927, 11932.9993139 ,\n",
              "       12236.83119289, 11900.77496408, 11679.59298492, 11808.23922021,\n",
              "       11421.3827486 , 11544.52432564, 11600.50498373, 11588.87584913,\n",
              "       11294.97429372, 11396.16290661, 11283.56388515, 11468.66673458,\n",
              "       11457.19912781, 11616.51092285, 11700.07117939, 11826.01555931,\n",
              "       11418.09746764, 10357.80894767, 10348.69937618, 10093.13832135,\n",
              "        9969.51243777, 10206.71652824, 10104.78430685, 10304.30019586,\n",
              "       10134.83480196, 10377.2094598 , 10425.10498093, 10403.39665387,\n",
              "       10745.86670976, 10811.90131845, 10808.13723518, 10860.43440632,\n",
              "       10906.11858574, 10923.38351737, 10882.83249958, 10363.23186755,\n",
              "       10558.63535613, 10286.64477729, 10590.99611518, 10637.53468699,\n",
              "       10621.70939134, 10873.82909457, 10632.80171069, 10698.70424827,\n",
              "       10752.48562867, 10470.89476121, 10503.24767185, 10501.34979789,\n",
              "       10597.04614568, 10686.94805614, 10534.89135124, 10588.41936179,\n",
              "       11183.67532402, 11266.85979336, 11361.39665552, 11335.89921093,\n",
              "       11388.05447129, 11240.21152269, 11288.55199469, 11458.89153356,\n",
              "       11726.33336808, 12420.31741318, 12878.21094379, 12777.9343219 ,\n",
              "       12873.67867974, 13158.50710837, 12938.63469634, 13212.62807801,\n",
              "       13522.98245605, 13150.20633205, 13241.38336884, 13694.28713048,\n",
              "       13677.85306327, 13488.37362525, 13409.53714679, 13694.19459991,\n",
              "       14497.90785006, 15545.67810357, 15394.35998979, 14986.30665885,\n",
              "       15353.23190768, 15216.08132053, 15502.23001918, 15623.64330353,\n",
              "       16098.35588303, 15974.13543868, 15889.7087595 , 16073.26960501,\n",
              "       16851.56373946, 17955.70775342, 17675.76794975, 18002.35029174,\n",
              "       18655.83672592, 18046.77266413, 18314.62502518, 18479.39618234,\n",
              "       19176.6651105 , 18281.25643413, 16900.58364688, 17127.51689119,\n",
              "       17689.35921224, 18527.54203886, 19424.266829  , 18530.05644317,\n",
              "       19035.60309435, 19430.20907741, 18592.49021669, 18912.01181903,\n",
              "       19086.40620759, 19186.91627386, 18022.80941709, 18208.04555508,\n",
              "       17818.77443136, 18229.62132113, 18952.43166615, 18986.48183159,\n",
              "       19130.96512454, 19820.30614087, 22358.81435281, 22513.05048322,\n",
              "       23146.6879022 , 23845.3348792 , 23517.28967011, 22599.8872868 ,\n",
              "       23574.796985  , 22870.8527621 , 23629.89238318, 25124.51191286,\n",
              "       27992.95694246, 26547.11762861, 26138.23608287, 27621.18203687,\n",
              "       28441.82525415, 28965.76471312, 30762.65231751, 33959.64299873,\n",
              "       30925.66617024, 31438.63583667, 34149.28387043, 37812.50183458,\n",
              "       38815.14173955, 40290.24703584, 39661.84255516, 34613.14939454,\n",
              "       35638.04623362, 33861.02749162, 38025.22596548, 37960.1579956 ,\n",
              "       37332.29789477, 35265.25414398, 35794.88711796, 37621.13637741,\n",
              "       34713.12468796, 35326.61699178, 30642.55387858, 32805.12178959,\n",
              "       31879.24253817, 34564.65680143, 31413.52547411, 31733.71025318,\n",
              "       30437.31082008, 36831.08088139, 33624.50332606, 33512.66024045,\n",
              "       33619.29471627, 34158.72900815, 35686.71600875, 37995.59489991,\n",
              "       36832.29773941, 39844.98208632, 38301.31533183, 39879.32128464,\n",
              "       46790.45523165, 46220.49988924, 45401.0237985 , 47681.85235448,\n",
              "       47229.17006341, 47992.37753376, 47400.11072859, 48586.54853049,\n",
              "       49894.3486892 , 51661.84101942, 52085.15558155, 56120.07464441,\n",
              "       56601.81921346, 53593.00459125, 51737.5843855 , 49231.00700366,\n",
              "       52060.62466224, 46545.6127888 , 47428.20114639, 45131.77736866,\n",
              "       46117.35624096, 49085.71306499, 50687.76034748, 51010.59197027,\n",
              "       47322.12334194, 47593.95496448, 49340.27783773, 49917.19245773,\n",
              "       52326.0834952 , 54962.99076871, 55247.62663736, 56188.82213534,\n",
              "       57588.40841702, 61375.20369453, 60183.22917984, 54019.17859838,\n",
              "       55353.43251346, 57265.87014522, 57922.84341748, 59677.75912885,\n",
              "       57339.42102808, 58261.47079175, 54753.85055675, 57092.62635911,\n",
              "       52521.61687707, 52111.35864224, 54934.49460483, 55601.90307562,\n",
              "       56045.41263141, 57826.32455483, 58691.79845941, 58735.3629921 ,\n",
              "       59511.96366999, 59905.6432239 , 57315.05200875, 58514.60096425,\n",
              "       58744.38676845, 58216.18326785, 56104.73997715, 58238.73476441,\n",
              "       59678.26230159, 59720.40113132, 60702.96357316, 60613.86249623,\n",
              "       63395.5680466 , 62569.65343819, 62307.41000774, 62042.61720609,\n",
              "       58599.17071455, 56265.0345666 , 54463.05354799, 56465.52652209,\n",
              "       54490.28200569, 49328.08395892, 49979.24463502, 48930.95607377,\n",
              "       50123.05242801, 53778.50090594, 55260.02839159, 54029.71175248,\n",
              "       54102.52205728, 57503.02911682, 57244.55193421, 58261.58168318,\n",
              "       57066.62642836, 54253.82645433, 57365.41602138, 56788.16985541,\n",
              "       57729.11318021, 57567.97039458, 58131.2052237 , 54911.26567249,\n",
              "       58415.03945436, 49065.1732594 , 50459.10630298, 50580.52326788,\n",
              "       47852.69650233, 45593.75226278, 45360.17090533, 39232.44839519,\n",
              "       38095.33063335, 39644.27353079, 37080.21586493, 35751.37865692,\n",
              "       36593.58853324, 38270.25726413, 39600.48658642, 39402.86085825,\n",
              "       38207.8069426 , 36545.11902061, 34626.43310713, 34936.87244128,\n",
              "       37078.30791387, 36834.73244794, 37770.64358115, 38327.90504795,\n",
              "       37401.94483923, 35812.01768083, 36794.10173539, 32076.96313364,\n",
              "       33703.72302533, 37580.85952148, 36401.67402887, 36714.00749685,\n",
              "       35955.23543416, 39671.49974107, 40480.29281497, 40308.00089345,\n",
              "       38915.04567821, 37760.48044511, 35769.10691449, 34164.53011925,\n",
              "       35583.77372011, 30462.5480428 , 33160.48264906, 33357.32711166,\n",
              "       35410.22752809, 30966.83466003, 32506.99960875, 34640.68182676,\n",
              "       35149.96893058, 35209.02952358, 34414.16936896, 32852.10556453,\n",
              "       33748.78130223, 35086.09881752, 34793.0109195 , 34394.69470437,\n",
              "       34842.87521775, 33214.07048465, 32730.19062285, 33729.8591937 ,\n",
              "       33712.72294881, 34150.61274088, 32824.63427749, 31976.6588708 ,\n",
              "       32618.25862257, 31824.98640009, 31515.0443476 , 31798.50951316,\n",
              "       31575.82489203, 30573.98412291, 30687.48051485, 31947.07758145,\n",
              "       32218.53459116, 33620.52006169, 34032.89036006, 39020.18430867,\n",
              "       36942.53793639, 39759.52552024, 39870.72460221, 39118.3086001 ,\n",
              "       41603.74794055, 42182.51516336, 39914.07622804, 39351.73964917,\n",
              "       38102.51330592, 38590.38612432, 40885.32898435, 42946.01528393,\n",
              "       44754.12127342, 43548.35956264, 45755.6304033 , 46325.23579963,\n",
              "       45657.58617767, 44919.12140584, 47173.83237346, 45964.09923693,\n",
              "       47627.27174561, 46911.05593642, 45408.13967251, 44657.73639399,\n",
              "       47010.25383664, 48988.38767539, 48303.33998776, 49856.16040411,\n",
              "       49719.11102032, 47548.1396537 , 48843.04207412, 46805.73249282,\n",
              "       48661.16306571, 48704.431635  , 48680.9521748 , 47628.64044305,\n",
              "       47098.58683331, 49573.82065965, 49497.15907449, 49934.97676988,\n",
              "       49880.01375697, 51154.90261388, 50512.62673335, 45979.31426261,\n",
              "       46465.32596408, 46507.11034503, 45420.82388167, 45122.43582839,\n",
              "       45414.45307646, 45163.92477635, 47093.24471007, 47683.20310009,\n",
              "       47578.5835245 , 47614.07423902, 47834.2648618 , 47264.10639644,\n",
              "       42913.99070324, 41534.94575145, 43302.89806838, 43584.03211016,\n",
              "       42001.37771273, 41944.71291879, 44167.44844447, 42562.33990061,\n",
              "       41791.87029651, 42082.07117096, 44603.17048708, 47799.59546952,\n",
              "       48105.60805509, 47613.65073439, 49703.6694065 , 51612.12738651,\n",
              "       54879.87705585, 55508.33650551, 54130.65322282, 55778.04203041,\n",
              "       55226.28513648, 56221.9405487 , 55073.9589851 , 57896.51253783,\n",
              "       58958.63142486])"
            ]
          },
          "execution_count": 18,
          "metadata": {},
          "output_type": "execute_result"
        }
      ]
    },
    {
      "cell_type": "code",
      "metadata": {
        "colab": {
          "base_uri": "https://localhost:8080/"
        },
        "id": "OjUaaarpindH",
        "outputId": "a8544189-7a92-4ae7-fba6-0f82e50a2921"
      },
      "source": [
        "print(model.intercept_)"
      ],
      "execution_count": null,
      "outputs": [
        {
          "name": "stdout",
          "output_type": "stream",
          "text": [
            "1.8640515159554525\n"
          ]
        }
      ]
    },
    {
      "cell_type": "code",
      "metadata": {
        "colab": {
          "base_uri": "https://localhost:8080/"
        },
        "id": "WJgSaMpdinhV",
        "outputId": "c7e6119a-9564-48e6-d91f-c1897b47f1cc"
      },
      "source": [
        "print(model.coef_)"
      ],
      "execution_count": null,
      "outputs": [
        {
          "name": "stdout",
          "output_type": "stream",
          "text": [
            "[ 1.10125793e+00  7.27391630e-01 -8.35644438e-01 -9.61567381e-10]\n"
          ]
        }
      ]
    },
    {
      "cell_type": "code",
      "metadata": {
        "colab": {
          "base_uri": "https://localhost:8080/"
        },
        "id": "aNWh4rSoinmk",
        "outputId": "61ed7257-0202-44d5-8a74-c061edd6713b"
      },
      "source": [
        "from sklearn import metrics\n",
        "print(\"Mean Squared Error\",metrics.mean_squared_error(Y_test,Y_predict))\n",
        "print(\"Mean absolute Error\",metrics.mean_absolute_error(Y_test,Y_predict))\n",
        "print(\"root Mean Squared Error\",np.sqrt(metrics.mean_squared_error(Y_test,Y_predict)))"
      ],
      "execution_count": null,
      "outputs": [
        {
          "name": "stdout",
          "output_type": "stream",
          "text": [
            "Mean Squared Error 507496.9985824709\n",
            "Mean absolute Error 432.27332183160854\n",
            "root Mean Squared Error 712.3882358535062\n"
          ]
        }
      ]
    },
    {
      "cell_type": "code",
      "metadata": {
        "id": "yPHGJtHBoG28"
      },
      "source": [
        "ouput = pd.DataFrame({\"Y_test\": Y_test,\n",
        "                    \"Y_predict\": Y_predict})"
      ],
      "execution_count": null,
      "outputs": []
    },
    {
      "cell_type": "code",
      "metadata": {
        "colab": {
          "base_uri": "https://localhost:8080/",
          "height": 359
        },
        "id": "E3rXVYAroG29",
        "outputId": "4e55dea7-80ba-47d0-f053-7d517179de3c"
      },
      "source": [
        "ouput.tail(10)"
      ],
      "execution_count": null,
      "outputs": [
        {
          "data": {
            "text/html": [
              "<div>\n",
              "<style scoped>\n",
              "    .dataframe tbody tr th:only-of-type {\n",
              "        vertical-align: middle;\n",
              "    }\n",
              "\n",
              "    .dataframe tbody tr th {\n",
              "        vertical-align: top;\n",
              "    }\n",
              "\n",
              "    .dataframe thead th {\n",
              "        text-align: right;\n",
              "    }\n",
              "</style>\n",
              "<table border=\"1\" class=\"dataframe\">\n",
              "  <thead>\n",
              "    <tr style=\"text-align: right;\">\n",
              "      <th></th>\n",
              "      <th>Y_test</th>\n",
              "      <th>Y_predict</th>\n",
              "    </tr>\n",
              "  </thead>\n",
              "  <tbody>\n",
              "    <tr>\n",
              "      <th>2500</th>\n",
              "      <td>51486.664063</td>\n",
              "      <td>51612.127387</td>\n",
              "    </tr>\n",
              "    <tr>\n",
              "      <th>2501</th>\n",
              "      <td>55338.625000</td>\n",
              "      <td>54879.877056</td>\n",
              "    </tr>\n",
              "    <tr>\n",
              "      <th>2502</th>\n",
              "      <td>53802.144531</td>\n",
              "      <td>55508.336506</td>\n",
              "    </tr>\n",
              "    <tr>\n",
              "      <th>2503</th>\n",
              "      <td>53929.781250</td>\n",
              "      <td>54130.653223</td>\n",
              "    </tr>\n",
              "    <tr>\n",
              "      <th>2504</th>\n",
              "      <td>54952.820313</td>\n",
              "      <td>55778.042030</td>\n",
              "    </tr>\n",
              "    <tr>\n",
              "      <th>2505</th>\n",
              "      <td>54734.125000</td>\n",
              "      <td>55226.285136</td>\n",
              "    </tr>\n",
              "    <tr>\n",
              "      <th>2506</th>\n",
              "      <td>57526.832031</td>\n",
              "      <td>56221.940549</td>\n",
              "    </tr>\n",
              "    <tr>\n",
              "      <th>2507</th>\n",
              "      <td>56038.257813</td>\n",
              "      <td>55073.958985</td>\n",
              "    </tr>\n",
              "    <tr>\n",
              "      <th>2508</th>\n",
              "      <td>57372.832031</td>\n",
              "      <td>57896.512538</td>\n",
              "    </tr>\n",
              "    <tr>\n",
              "      <th>2509</th>\n",
              "      <td>57345.902344</td>\n",
              "      <td>58958.631425</td>\n",
              "    </tr>\n",
              "  </tbody>\n",
              "</table>\n",
              "</div>"
            ],
            "text/plain": [
              "            Y_test     Y_predict\n",
              "2500  51486.664063  51612.127387\n",
              "2501  55338.625000  54879.877056\n",
              "2502  53802.144531  55508.336506\n",
              "2503  53929.781250  54130.653223\n",
              "2504  54952.820313  55778.042030\n",
              "2505  54734.125000  55226.285136\n",
              "2506  57526.832031  56221.940549\n",
              "2507  56038.257813  55073.958985\n",
              "2508  57372.832031  57896.512538\n",
              "2509  57345.902344  58958.631425"
            ]
          },
          "execution_count": 23,
          "metadata": {},
          "output_type": "execute_result"
        }
      ]
    },
    {
      "cell_type": "code",
      "metadata": {
        "colab": {
          "base_uri": "https://localhost:8080/",
          "height": 282
        },
        "id": "11z5pnseoG29",
        "outputId": "36f83c2a-f5d9-4735-8181-32bb2dfbdbb6"
      },
      "source": [
        "import seaborn as sns\n",
        "sns.lineplot(data = ouput)"
      ],
      "execution_count": null,
      "outputs": [
        {
          "data": {
            "text/plain": [
              "<matplotlib.axes._subplots.AxesSubplot at 0x7f7dc1208bd0>"
            ]
          },
          "execution_count": 24,
          "metadata": {},
          "output_type": "execute_result"
        },
        {
          "data": {
            "image/png": "[encoded data removed]",
            "text/plain": [
              "<Figure size 432x288 with 1 Axes>"
            ]
          },
          "metadata": {},
          "output_type": "display_data"
        }
      ]
    },
    {
      "cell_type": "code",
      "metadata": {
        "colab": {
          "base_uri": "https://localhost:8080/",
          "height": 80
        },
        "id": "I3ag5HufoG29",
        "outputId": "e7610cdb-1f92-4c73-dbfd-f07de1ac7bca"
      },
      "source": [
        "dffinal = pd.DataFrame()\n",
        "dffinal['High'] = ['57793.039063']\t\n",
        "dffinal['Low'] = ['54519.765625']\n",
        "dffinal['Close'] = ['57484.789063']\n",
        "dffinal['Volume'] = ['4.263733e+10']\n",
        "dffinal"
      ],
      "execution_count": null,
      "outputs": [
        {
          "data": {
            "text/html": [
              "<div>\n",
              "<style scoped>\n",
              "    .dataframe tbody tr th:only-of-type {\n",
              "        vertical-align: middle;\n",
              "    }\n",
              "\n",
              "    .dataframe tbody tr th {\n",
              "        vertical-align: top;\n",
              "    }\n",
              "\n",
              "    .dataframe thead th {\n",
              "        text-align: right;\n",
              "    }\n",
              "</style>\n",
              "<table border=\"1\" class=\"dataframe\">\n",
              "  <thead>\n",
              "    <tr style=\"text-align: right;\">\n",
              "      <th></th>\n",
              "      <th>High</th>\n",
              "      <th>Low</th>\n",
              "      <th>Close</th>\n",
              "      <th>Volume</th>\n",
              "    </tr>\n",
              "  </thead>\n",
              "  <tbody>\n",
              "    <tr>\n",
              "      <th>0</th>\n",
              "      <td>57793.039063</td>\n",
              "      <td>54519.765625</td>\n",
              "      <td>57484.789063</td>\n",
              "      <td>4.263733e+10</td>\n",
              "    </tr>\n",
              "  </tbody>\n",
              "</table>\n",
              "</div>"
            ],
            "text/plain": [
              "           High           Low         Close        Volume\n",
              "0  57793.039063  54519.765625  57484.789063  4.263733e+10"
            ]
          },
          "execution_count": 29,
          "metadata": {},
          "output_type": "execute_result"
        }
      ]
    },
    {
      "cell_type": "code",
      "metadata": {
        "colab": {
          "base_uri": "https://localhost:8080/"
        },
        "id": "14uyuNa4oG29",
        "outputId": "749afa74-189e-468f-da8d-ae65bafb2599"
      },
      "source": [
        "model.predict(dffinal)"
      ],
      "execution_count": null,
      "outputs": [
        {
          "data": {
            "text/plain": [
              "array([55226.28513811])"
            ]
          },
          "execution_count": 30,
          "metadata": {},
          "output_type": "execute_result"
        }
      ]
    },
    {
      "cell_type": "code",
      "metadata": {
        "id": "yGx_cWSBiscQ"
      },
      "source": [
        "60,523.00\t\t\t\t61,290.07\t"
      ],
      "execution_count": null,
      "outputs": []
    },
    {
      "cell_type": "code",
      "metadata": {
        "colab": {
          "base_uri": "https://localhost:8080/",
          "height": 80
        },
        "id": "F57ddDSXi0g8",
        "outputId": "e8273e21-abe0-48ed-c8c0-006fbd640f9c"
      },
      "source": [
        "dffinal1 = pd.DataFrame()\n",
        "dffinal1['High'] = ['61988.68']\t\n",
        "dffinal1['Low'] = ['60436.54']\n",
        "dffinal1['Close'] = ['61290.07']\n",
        "dffinal1['Volume'] = ['44873883648']\n",
        "dffinal1"
      ],
      "execution_count": null,
      "outputs": [
        {
          "data": {
            "text/html": [
              "<div>\n",
              "<style scoped>\n",
              "    .dataframe tbody tr th:only-of-type {\n",
              "        vertical-align: middle;\n",
              "    }\n",
              "\n",
              "    .dataframe tbody tr th {\n",
              "        vertical-align: top;\n",
              "    }\n",
              "\n",
              "    .dataframe thead th {\n",
              "        text-align: right;\n",
              "    }\n",
              "</style>\n",
              "<table border=\"1\" class=\"dataframe\">\n",
              "  <thead>\n",
              "    <tr style=\"text-align: right;\">\n",
              "      <th></th>\n",
              "      <th>High</th>\n",
              "      <th>Low</th>\n",
              "      <th>Close</th>\n",
              "      <th>Volume</th>\n",
              "    </tr>\n",
              "  </thead>\n",
              "  <tbody>\n",
              "    <tr>\n",
              "      <th>0</th>\n",
              "      <td>61988.68</td>\n",
              "      <td>60436.54</td>\n",
              "      <td>61290.07</td>\n",
              "      <td>44873883648</td>\n",
              "    </tr>\n",
              "  </tbody>\n",
              "</table>\n",
              "</div>"
            ],
            "text/plain": [
              "       High       Low     Close       Volume\n",
              "0  61988.68  60436.54  61290.07  44873883648"
            ]
          },
          "execution_count": 34,
          "metadata": {},
          "output_type": "execute_result"
        }
      ]
    },
    {
      "cell_type": "code",
      "metadata": {
        "colab": {
          "base_uri": "https://localhost:8080/"
        },
        "id": "_oHEgjOai0q8",
        "outputId": "b214051b-5fee-4af2-b0c3-d84e2eb4535b"
      },
      "source": [
        "model.predict(dffinal1)"
      ],
      "execution_count": null,
      "outputs": [
        {
          "data": {
            "text/plain": [
              "array([60968.56771861])"
            ]
          },
          "execution_count": 35,
          "metadata": {},
          "output_type": "execute_result"
        }
      ]
    }
  ]
}